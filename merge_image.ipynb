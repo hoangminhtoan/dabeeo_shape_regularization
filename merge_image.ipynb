{
 "cells": [
  {
   "cell_type": "code",
   "execution_count": 8,
   "metadata": {},
   "outputs": [],
   "source": [
    "import os \n",
    "import cv2 \n",
    "import numpy as np"
   ]
  },
  {
   "cell_type": "code",
   "execution_count": 9,
   "metadata": {},
   "outputs": [],
   "source": [
    "rgb_dir = 'data/test/single_polygon/rgb'\n",
    "seg_dir = 'data/test/single_polygon/seg'\n",
    "arcpy_dir = 'data/test/single_polygon/gti'\n",
    "reg_output = 'data/test/single_polygon/reg_output'\n",
    "output_dir = 'data/test/single_polygon/output'"
   ]
  },
  {
   "cell_type": "code",
   "execution_count": 12,
   "metadata": {},
   "outputs": [],
   "source": [
    "def add_to_image(img):\n",
    "    h, w, c = img.shape\n",
    "    image = np.zeros((256, 256, 3))\n",
    "\n",
    "    if h < 256 and w < 256:\n",
    "        offset_x = 0 if 128 - w // 2 < 0 else 128 - w // 2\n",
    "        offset_y = 0 if 128 - h // 2 < 0 else 128 - h // 2\n",
    "\n",
    "        image[offset_y:offset_y + h, offset_x:offset_x + w, :] = img \n",
    "    else:\n",
    "        image = cv2.resize(img, (256, 256))\n",
    "    return image\n",
    "\n",
    "def gray_to_color(img):\n",
    "    return cv2.cvtColor(img, cv2.COLOR_GRAY2BGR)\n",
    "\n",
    "for img_name in os.listdir(rgb_dir):\n",
    "    rgb_image = cv2.imread(os.path.join(rgb_dir, img_name))\n",
    "    seg_image = gray_to_color(cv2.imread(os.path.join(seg_dir, img_name), 0))\n",
    "    arcpy_image = gray_to_color(cv2.imread(os.path.join(arcpy_dir, img_name), 0))\n",
    "    reg_output_image = gray_to_color(cv2.imread(os.path.join(reg_output, img_name), 0))\n",
    "    \n",
    "    rgb_image = add_to_image(rgb_image)\n",
    "    seg_image = add_to_image(seg_image)\n",
    "    arcpy_image = add_to_image(arcpy_image)\n",
    "    reg_output_image = add_to_image(reg_output_image)\n",
    "\n",
    "    img = cv2.hconcat([rgb_image, seg_image, reg_output_image, arcpy_image])\n",
    "    cv2.imwrite(os.path.join(output_dir, img_name.replace('.tif', '.png')), img)"
   ]
  }
 ],
 "metadata": {
  "kernelspec": {
   "display_name": "gdal_pytorch2",
   "language": "python",
   "name": "python3"
  },
  "language_info": {
   "codemirror_mode": {
    "name": "ipython",
    "version": 3
   },
   "file_extension": ".py",
   "mimetype": "text/x-python",
   "name": "python",
   "nbconvert_exporter": "python",
   "pygments_lexer": "ipython3",
   "version": "3.11.3"
  },
  "orig_nbformat": 4
 },
 "nbformat": 4,
 "nbformat_minor": 2
}
