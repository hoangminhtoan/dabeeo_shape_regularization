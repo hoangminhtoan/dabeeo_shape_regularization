{
 "cells": [
  {
   "cell_type": "code",
   "execution_count": 2,
   "metadata": {},
   "outputs": [],
   "source": [
    "import os \n",
    "import shutil \n",
    "import numpy as np \n",
    "import cv2\n",
    "from tqdm import tqdm"
   ]
  },
  {
   "cell_type": "code",
   "execution_count": 37,
   "metadata": {},
   "outputs": [
    {
     "name": "stderr",
     "output_type": "stream",
     "text": [
      "100%|██████████| 7900/7900 [00:04<00:00, 1697.71it/s]\n"
     ]
    }
   ],
   "source": [
    "INPUT_DIR = ['data/230421/train/input1_256' ,'data/230421/train/prediction' ,'data/230421/train/mask_256']\n",
    "OUTPUT_DIR = ['data/230421/train/rgb', 'data/230421/train/seg', 'data/230421/train/gti']\n",
    "OUTPUT_TIF_DIR = ['data/230421/train/rgb_tif', 'data/230421/train/seg_tif', 'data/230421/train/gti_tif']\n",
    "\n",
    "img_list = []\n",
    "\n",
    "for mask_name in tqdm(os.listdir(INPUT_DIR[2]), total=len(os.listdir(INPUT_DIR[2]))):\n",
    "    img = cv2.imread(os.path.join(INPUT_DIR[2], mask_name), 0)\n",
    "    _, img = cv2.threshold(img, 127, 255, cv2.THRESH_BINARY)\n",
    "    if np.sum(img) > 0:\n",
    "        img_list.append(mask_name)"
   ]
  },
  {
   "cell_type": "code",
   "execution_count": 30,
   "metadata": {},
   "outputs": [
    {
     "name": "stdout",
     "output_type": "stream",
     "text": [
      "380\n"
     ]
    }
   ],
   "source": [
    "print(len(img_list))"
   ]
  },
  {
   "cell_type": "code",
   "execution_count": 31,
   "metadata": {},
   "outputs": [
    {
     "name": "stderr",
     "output_type": "stream",
     "text": [
      "100%|██████████| 380/380 [00:00<00:00, 559.83it/s]\n"
     ]
    }
   ],
   "source": [
    "for img_name in tqdm(img_list, total=len(img_list)):\n",
    "    for in_dir, out_dir in zip(INPUT_DIR, OUTPUT_DIR):\n",
    "        shutil.copy(os.path.join(in_dir, img_name),\n",
    "                    os.path.join(out_dir, img_name))"
   ]
  },
  {
   "cell_type": "code",
   "execution_count": 32,
   "metadata": {},
   "outputs": [],
   "source": [
    "img_list = []\n",
    "min_img = 10 ** 6\n",
    "for img_file in os.listdir(OUTPUT_DIR[1]):\n",
    "    img = cv2.imread(os.path.join(OUTPUT_DIR[1], img_file), 0)\n",
    "    _, img = cv2.threshold(img, 127, 255, cv2.THRESH_BINARY)\n",
    "    if np.sum(img) < 40000:\n",
    "        img_list.append(img_file)\n",
    "\n",
    "\n",
    "for img_file in img_list:\n",
    "    for folder in OUTPUT_DIR:\n",
    "        os.remove(os.path.join(folder, img_file))"
   ]
  },
  {
   "cell_type": "code",
   "execution_count": 38,
   "metadata": {},
   "outputs": [],
   "source": [
    "for in_dir, out_tif_dir in zip(OUTPUT_DIR, OUTPUT_TIF_DIR):\n",
    "    if not os.path.exists(os.path.join(out_tif_dir)):\n",
    "        os.makedirs(os.path.join(out_tif_dir))\n",
    "\n",
    "    for img_file in os.listdir(os.path.join(in_dir)):\n",
    "        img = cv2.imread(os.path.join(in_dir, img_file))\n",
    "        cv2.imwrite(os.path.join(out_tif_dir, img_file.replace('.png', '.tif')), img)"
   ]
  },
  {
   "cell_type": "code",
   "execution_count": 40,
   "metadata": {},
   "outputs": [
    {
     "name": "stdout",
     "output_type": "stream",
     "text": [
      "(256, 256, 3)\n"
     ]
    }
   ],
   "source": [
    "img = cv2.imread('data/230421/train/rgb_tif/18_223629_101485_2.tif')\n",
    "print(img.shape)"
   ]
  }
 ],
 "metadata": {
  "kernelspec": {
   "display_name": "gdal_pytorch2",
   "language": "python",
   "name": "python3"
  },
  "language_info": {
   "codemirror_mode": {
    "name": "ipython",
    "version": 3
   },
   "file_extension": ".py",
   "mimetype": "text/x-python",
   "name": "python",
   "nbconvert_exporter": "python",
   "pygments_lexer": "ipython3",
   "version": "3.11.3"
  },
  "orig_nbformat": 4
 },
 "nbformat": 4,
 "nbformat_minor": 2
}
